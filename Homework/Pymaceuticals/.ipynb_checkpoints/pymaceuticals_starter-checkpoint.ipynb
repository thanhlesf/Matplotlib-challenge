{
 "cells": [
  {
   "cell_type": "markdown",
   "metadata": {},
   "source": [
    "## Observations and Insights"
   ]
  },
  {
   "cell_type": "markdown",
   "metadata": {},
   "source": []
  },
  {
   "cell_type": "markdown",
   "metadata": {},
   "source": [
    "## Dependencies and starter code"
   ]
  },
  {
   "cell_type": "code",
   "execution_count": 34,
   "metadata": {},
   "outputs": [
    {
     "name": "stdout",
     "output_type": "stream",
     "text": [
      "  Mouse ID Drug Regimen     Sex  Age_months  Weight (g)\n",
      "0     k403     Ramicane    Male          21          16\n",
      "1     s185    Capomulin  Female           3          17\n",
      "2     x401    Capomulin  Female          16          15\n",
      "3     m601    Capomulin    Male          22          17\n",
      "4     g791     Ramicane    Male          11          16\n",
      "  Mouse ID  Timepoint  Tumor Volume (mm3)  Metastatic Sites\n",
      "0     b128          0                45.0                 0\n",
      "1     f932          0                45.0                 0\n",
      "2     g107          0                45.0                 0\n",
      "3     a457          0                45.0                 0\n",
      "4     c819          0                45.0                 0\n"
     ]
    },
    {
     "data": {
      "text/html": [
       "<div>\n",
       "<style scoped>\n",
       "    .dataframe tbody tr th:only-of-type {\n",
       "        vertical-align: middle;\n",
       "    }\n",
       "\n",
       "    .dataframe tbody tr th {\n",
       "        vertical-align: top;\n",
       "    }\n",
       "\n",
       "    .dataframe thead th {\n",
       "        text-align: right;\n",
       "    }\n",
       "</style>\n",
       "<table border=\"1\" class=\"dataframe\">\n",
       "  <thead>\n",
       "    <tr style=\"text-align: right;\">\n",
       "      <th></th>\n",
       "      <th>Mouse ID</th>\n",
       "      <th>Drug Regimen</th>\n",
       "      <th>Sex</th>\n",
       "      <th>Age_months</th>\n",
       "      <th>Weight (g)</th>\n",
       "      <th>Timepoint</th>\n",
       "      <th>Tumor Volume (mm3)</th>\n",
       "      <th>Metastatic Sites</th>\n",
       "    </tr>\n",
       "  </thead>\n",
       "  <tbody>\n",
       "    <tr>\n",
       "      <th>0</th>\n",
       "      <td>k403</td>\n",
       "      <td>Ramicane</td>\n",
       "      <td>Male</td>\n",
       "      <td>21</td>\n",
       "      <td>16</td>\n",
       "      <td>0</td>\n",
       "      <td>45.000000</td>\n",
       "      <td>0</td>\n",
       "    </tr>\n",
       "    <tr>\n",
       "      <th>1</th>\n",
       "      <td>k403</td>\n",
       "      <td>Ramicane</td>\n",
       "      <td>Male</td>\n",
       "      <td>21</td>\n",
       "      <td>16</td>\n",
       "      <td>5</td>\n",
       "      <td>38.825898</td>\n",
       "      <td>0</td>\n",
       "    </tr>\n",
       "    <tr>\n",
       "      <th>2</th>\n",
       "      <td>k403</td>\n",
       "      <td>Ramicane</td>\n",
       "      <td>Male</td>\n",
       "      <td>21</td>\n",
       "      <td>16</td>\n",
       "      <td>10</td>\n",
       "      <td>35.014271</td>\n",
       "      <td>1</td>\n",
       "    </tr>\n",
       "    <tr>\n",
       "      <th>3</th>\n",
       "      <td>k403</td>\n",
       "      <td>Ramicane</td>\n",
       "      <td>Male</td>\n",
       "      <td>21</td>\n",
       "      <td>16</td>\n",
       "      <td>15</td>\n",
       "      <td>34.223992</td>\n",
       "      <td>1</td>\n",
       "    </tr>\n",
       "    <tr>\n",
       "      <th>4</th>\n",
       "      <td>k403</td>\n",
       "      <td>Ramicane</td>\n",
       "      <td>Male</td>\n",
       "      <td>21</td>\n",
       "      <td>16</td>\n",
       "      <td>20</td>\n",
       "      <td>32.997729</td>\n",
       "      <td>1</td>\n",
       "    </tr>\n",
       "  </tbody>\n",
       "</table>\n",
       "</div>"
      ],
      "text/plain": [
       "  Mouse ID Drug Regimen   Sex  Age_months  Weight (g)  Timepoint  \\\n",
       "0     k403     Ramicane  Male          21          16          0   \n",
       "1     k403     Ramicane  Male          21          16          5   \n",
       "2     k403     Ramicane  Male          21          16         10   \n",
       "3     k403     Ramicane  Male          21          16         15   \n",
       "4     k403     Ramicane  Male          21          16         20   \n",
       "\n",
       "   Tumor Volume (mm3)  Metastatic Sites  \n",
       "0           45.000000                 0  \n",
       "1           38.825898                 0  \n",
       "2           35.014271                 1  \n",
       "3           34.223992                 1  \n",
       "4           32.997729                 1  "
      ]
     },
     "execution_count": 34,
     "metadata": {},
     "output_type": "execute_result"
    }
   ],
   "source": [
    "# Dependencies and Setup\n",
    "import matplotlib.pyplot as plt\n",
    "import pandas as pd\n",
    "import numpy as np\n",
    "import scipy.stats as stats\n",
    "\n",
    "# Study data files\n",
    "mouse_metadata = \"data/Mouse_metadata.csv\"\n",
    "study_results = \"data/Study_results.csv\"\n",
    "\n",
    "# Read the mouse data and the study results\n",
    "mouse_metadata = pd.read_csv(mouse_metadata)\n",
    "study_results = pd.read_csv(study_results)\n",
    "\n",
    "print(mouse_metadata.head())\n",
    "print(study_results.head())\n",
    "# Combine the data into a single dataset\n",
    "\n",
    "merged_df = pd.merge(mouse_metadata,study_results, on='Mouse ID')\n",
    "\n",
    "merged_df.head()"
   ]
  },
  {
   "cell_type": "markdown",
   "metadata": {},
   "source": [
    "## Summary statistics"
   ]
  },
  {
   "cell_type": "code",
   "execution_count": 35,
   "metadata": {
    "scrolled": true
   },
   "outputs": [
    {
     "data": {
      "text/html": [
       "<div>\n",
       "<style scoped>\n",
       "    .dataframe tbody tr th:only-of-type {\n",
       "        vertical-align: middle;\n",
       "    }\n",
       "\n",
       "    .dataframe tbody tr th {\n",
       "        vertical-align: top;\n",
       "    }\n",
       "\n",
       "    .dataframe thead th {\n",
       "        text-align: right;\n",
       "    }\n",
       "</style>\n",
       "<table border=\"1\" class=\"dataframe\">\n",
       "  <thead>\n",
       "    <tr style=\"text-align: right;\">\n",
       "      <th></th>\n",
       "      <th>Mean</th>\n",
       "      <th>Median</th>\n",
       "      <th>Variance</th>\n",
       "      <th>STD</th>\n",
       "      <th>SEM</th>\n",
       "    </tr>\n",
       "    <tr>\n",
       "      <th>Drug Regimen</th>\n",
       "      <th></th>\n",
       "      <th></th>\n",
       "      <th></th>\n",
       "      <th></th>\n",
       "      <th></th>\n",
       "    </tr>\n",
       "  </thead>\n",
       "  <tbody>\n",
       "    <tr>\n",
       "      <th>Capomulin</th>\n",
       "      <td>40.675741</td>\n",
       "      <td>41.557809</td>\n",
       "      <td>24.947764</td>\n",
       "      <td>4.994774</td>\n",
       "      <td>0.329346</td>\n",
       "    </tr>\n",
       "    <tr>\n",
       "      <th>Ceftamin</th>\n",
       "      <td>52.591172</td>\n",
       "      <td>51.776157</td>\n",
       "      <td>39.290177</td>\n",
       "      <td>6.268188</td>\n",
       "      <td>0.469821</td>\n",
       "    </tr>\n",
       "    <tr>\n",
       "      <th>Infubinol</th>\n",
       "      <td>52.884795</td>\n",
       "      <td>51.820584</td>\n",
       "      <td>43.128684</td>\n",
       "      <td>6.567243</td>\n",
       "      <td>0.492236</td>\n",
       "    </tr>\n",
       "    <tr>\n",
       "      <th>Ketapril</th>\n",
       "      <td>55.235638</td>\n",
       "      <td>53.698743</td>\n",
       "      <td>68.553577</td>\n",
       "      <td>8.279709</td>\n",
       "      <td>0.603860</td>\n",
       "    </tr>\n",
       "    <tr>\n",
       "      <th>Naftisol</th>\n",
       "      <td>54.331565</td>\n",
       "      <td>52.509285</td>\n",
       "      <td>66.173479</td>\n",
       "      <td>8.134708</td>\n",
       "      <td>0.596466</td>\n",
       "    </tr>\n",
       "    <tr>\n",
       "      <th>Placebo</th>\n",
       "      <td>54.033581</td>\n",
       "      <td>52.288934</td>\n",
       "      <td>61.168083</td>\n",
       "      <td>7.821003</td>\n",
       "      <td>0.581331</td>\n",
       "    </tr>\n",
       "    <tr>\n",
       "      <th>Propriva</th>\n",
       "      <td>52.322552</td>\n",
       "      <td>50.854632</td>\n",
       "      <td>42.351070</td>\n",
       "      <td>6.507770</td>\n",
       "      <td>0.512884</td>\n",
       "    </tr>\n",
       "    <tr>\n",
       "      <th>Ramicane</th>\n",
       "      <td>40.216745</td>\n",
       "      <td>40.673236</td>\n",
       "      <td>23.486704</td>\n",
       "      <td>4.846308</td>\n",
       "      <td>0.320955</td>\n",
       "    </tr>\n",
       "    <tr>\n",
       "      <th>Stelasyn</th>\n",
       "      <td>54.233149</td>\n",
       "      <td>52.431737</td>\n",
       "      <td>59.450562</td>\n",
       "      <td>7.710419</td>\n",
       "      <td>0.573111</td>\n",
       "    </tr>\n",
       "    <tr>\n",
       "      <th>Zoniferol</th>\n",
       "      <td>53.236507</td>\n",
       "      <td>51.818479</td>\n",
       "      <td>48.533355</td>\n",
       "      <td>6.966589</td>\n",
       "      <td>0.516398</td>\n",
       "    </tr>\n",
       "  </tbody>\n",
       "</table>\n",
       "</div>"
      ],
      "text/plain": [
       "                   Mean     Median   Variance       STD       SEM\n",
       "Drug Regimen                                                     \n",
       "Capomulin     40.675741  41.557809  24.947764  4.994774  0.329346\n",
       "Ceftamin      52.591172  51.776157  39.290177  6.268188  0.469821\n",
       "Infubinol     52.884795  51.820584  43.128684  6.567243  0.492236\n",
       "Ketapril      55.235638  53.698743  68.553577  8.279709  0.603860\n",
       "Naftisol      54.331565  52.509285  66.173479  8.134708  0.596466\n",
       "Placebo       54.033581  52.288934  61.168083  7.821003  0.581331\n",
       "Propriva      52.322552  50.854632  42.351070  6.507770  0.512884\n",
       "Ramicane      40.216745  40.673236  23.486704  4.846308  0.320955\n",
       "Stelasyn      54.233149  52.431737  59.450562  7.710419  0.573111\n",
       "Zoniferol     53.236507  51.818479  48.533355  6.966589  0.516398"
      ]
     },
     "execution_count": 35,
     "metadata": {},
     "output_type": "execute_result"
    }
   ],
   "source": [
    "# Generate a summary statistics table of mean, median, variance, standard deviation, and SEM of the tumor volume for each regimen\n",
    "\n",
    "mean_tumor_volume = merged_df.groupby('Drug Regimen')['Tumor Volume (mm3)'].mean()\n",
    "\n",
    "median_tumor_volume = merged_df.groupby('Drug Regimen')['Tumor Volume (mm3)'].median()\n",
    "\n",
    "var_tumor_volume = merged_df.groupby('Drug Regimen')['Tumor Volume (mm3)'].var()\n",
    "\n",
    "std_tumor_volume =merged_df.groupby('Drug Regimen')['Tumor Volume (mm3)'].std()\n",
    "\n",
    "sem_tumor_volume = merged_df.groupby('Drug Regimen',)['Tumor Volume (mm3)'].sem()\n",
    "\n",
    "summary_statistic = pd.DataFrame({\"Mean\":mean_tumor_volume,\n",
    "                                 \"Median\":median_tumor_volume,\n",
    "                                 \"Variance\":var_tumor_volume,\n",
    "                                 \"STD\":std_tumor_volume,\n",
    "                                   \"SEM\":sem_tumor_volume,\n",
    "                                })\n",
    "\n",
    "summary_statistic"
   ]
  },
  {
   "cell_type": "markdown",
   "metadata": {},
   "source": [
    "Bar plots"
   ]
  },
  {
   "cell_type": "code",
   "execution_count": 36,
   "metadata": {
    "scrolled": false
   },
   "outputs": [
    {
     "data": {
      "text/html": [
       "<div>\n",
       "<style scoped>\n",
       "    .dataframe tbody tr th:only-of-type {\n",
       "        vertical-align: middle;\n",
       "    }\n",
       "\n",
       "    .dataframe tbody tr th {\n",
       "        vertical-align: top;\n",
       "    }\n",
       "\n",
       "    .dataframe thead th {\n",
       "        text-align: right;\n",
       "    }\n",
       "</style>\n",
       "<table border=\"1\" class=\"dataframe\">\n",
       "  <thead>\n",
       "    <tr style=\"text-align: right;\">\n",
       "      <th></th>\n",
       "      <th>Mouse ID</th>\n",
       "      <th>Sex</th>\n",
       "      <th>Age_months</th>\n",
       "      <th>Weight (g)</th>\n",
       "      <th>Timepoint</th>\n",
       "      <th>Tumor Volume (mm3)</th>\n",
       "      <th>Metastatic Sites</th>\n",
       "    </tr>\n",
       "    <tr>\n",
       "      <th>Drug Regimen</th>\n",
       "      <th></th>\n",
       "      <th></th>\n",
       "      <th></th>\n",
       "      <th></th>\n",
       "      <th></th>\n",
       "      <th></th>\n",
       "      <th></th>\n",
       "    </tr>\n",
       "  </thead>\n",
       "  <tbody>\n",
       "    <tr>\n",
       "      <th>Capomulin</th>\n",
       "      <td>230</td>\n",
       "      <td>230</td>\n",
       "      <td>230</td>\n",
       "      <td>230</td>\n",
       "      <td>230</td>\n",
       "      <td>230</td>\n",
       "      <td>230</td>\n",
       "    </tr>\n",
       "    <tr>\n",
       "      <th>Ceftamin</th>\n",
       "      <td>178</td>\n",
       "      <td>178</td>\n",
       "      <td>178</td>\n",
       "      <td>178</td>\n",
       "      <td>178</td>\n",
       "      <td>178</td>\n",
       "      <td>178</td>\n",
       "    </tr>\n",
       "    <tr>\n",
       "      <th>Infubinol</th>\n",
       "      <td>178</td>\n",
       "      <td>178</td>\n",
       "      <td>178</td>\n",
       "      <td>178</td>\n",
       "      <td>178</td>\n",
       "      <td>178</td>\n",
       "      <td>178</td>\n",
       "    </tr>\n",
       "    <tr>\n",
       "      <th>Ketapril</th>\n",
       "      <td>188</td>\n",
       "      <td>188</td>\n",
       "      <td>188</td>\n",
       "      <td>188</td>\n",
       "      <td>188</td>\n",
       "      <td>188</td>\n",
       "      <td>188</td>\n",
       "    </tr>\n",
       "    <tr>\n",
       "      <th>Naftisol</th>\n",
       "      <td>186</td>\n",
       "      <td>186</td>\n",
       "      <td>186</td>\n",
       "      <td>186</td>\n",
       "      <td>186</td>\n",
       "      <td>186</td>\n",
       "      <td>186</td>\n",
       "    </tr>\n",
       "    <tr>\n",
       "      <th>Placebo</th>\n",
       "      <td>181</td>\n",
       "      <td>181</td>\n",
       "      <td>181</td>\n",
       "      <td>181</td>\n",
       "      <td>181</td>\n",
       "      <td>181</td>\n",
       "      <td>181</td>\n",
       "    </tr>\n",
       "    <tr>\n",
       "      <th>Propriva</th>\n",
       "      <td>161</td>\n",
       "      <td>161</td>\n",
       "      <td>161</td>\n",
       "      <td>161</td>\n",
       "      <td>161</td>\n",
       "      <td>161</td>\n",
       "      <td>161</td>\n",
       "    </tr>\n",
       "    <tr>\n",
       "      <th>Ramicane</th>\n",
       "      <td>228</td>\n",
       "      <td>228</td>\n",
       "      <td>228</td>\n",
       "      <td>228</td>\n",
       "      <td>228</td>\n",
       "      <td>228</td>\n",
       "      <td>228</td>\n",
       "    </tr>\n",
       "    <tr>\n",
       "      <th>Stelasyn</th>\n",
       "      <td>181</td>\n",
       "      <td>181</td>\n",
       "      <td>181</td>\n",
       "      <td>181</td>\n",
       "      <td>181</td>\n",
       "      <td>181</td>\n",
       "      <td>181</td>\n",
       "    </tr>\n",
       "    <tr>\n",
       "      <th>Zoniferol</th>\n",
       "      <td>182</td>\n",
       "      <td>182</td>\n",
       "      <td>182</td>\n",
       "      <td>182</td>\n",
       "      <td>182</td>\n",
       "      <td>182</td>\n",
       "      <td>182</td>\n",
       "    </tr>\n",
       "  </tbody>\n",
       "</table>\n",
       "</div>"
      ],
      "text/plain": [
       "              Mouse ID  Sex  Age_months  Weight (g)  Timepoint  \\\n",
       "Drug Regimen                                                     \n",
       "Capomulin          230  230         230         230        230   \n",
       "Ceftamin           178  178         178         178        178   \n",
       "Infubinol          178  178         178         178        178   \n",
       "Ketapril           188  188         188         188        188   \n",
       "Naftisol           186  186         186         186        186   \n",
       "Placebo            181  181         181         181        181   \n",
       "Propriva           161  161         161         161        161   \n",
       "Ramicane           228  228         228         228        228   \n",
       "Stelasyn           181  181         181         181        181   \n",
       "Zoniferol          182  182         182         182        182   \n",
       "\n",
       "              Tumor Volume (mm3)  Metastatic Sites  \n",
       "Drug Regimen                                        \n",
       "Capomulin                    230               230  \n",
       "Ceftamin                     178               178  \n",
       "Infubinol                    178               178  \n",
       "Ketapril                     188               188  \n",
       "Naftisol                     186               186  \n",
       "Placebo                      181               181  \n",
       "Propriva                     161               161  \n",
       "Ramicane                     228               228  \n",
       "Stelasyn                     181               181  \n",
       "Zoniferol                    182               182  "
      ]
     },
     "execution_count": 36,
     "metadata": {},
     "output_type": "execute_result"
    }
   ],
   "source": [
    "# Generate a bar plot showing number of data points for each treatment regimen using pandas\n",
    "\n",
    "# calculate number of mice per drug\n",
    "mice_per_drug = merged_df.groupby('Drug Regimen').count()\n",
    "\n",
    "mice_per_drug"
   ]
  },
  {
   "cell_type": "code",
   "execution_count": 70,
   "metadata": {},
   "outputs": [
    {
     "data": {
      "image/png": "[encoded data removed]",
      "text/plain": [
       "<Figure size 432x288 with 1 Axes>"
      ]
     },
     "metadata": {
      "needs_background": "light"
     },
     "output_type": "display_data"
    }
   ],
   "source": [
    "# Generate a bar plot showing number of data points for each treatment regimen using pandas\n",
    "\n",
    "bar_plot = mice_per_drug['Mouse ID'].sort_values(ascending=False).plot.bar()\n",
    "\n",
    "bar_plot.legend('Times')\n",
    "plt.title('Number of data points for each treatment regimen')\n",
    "plt.xlabel('Drug Regimen')\n",
    "plt.ylabel('Number of data points')\n",
    "\n",
    "\n",
    "# .plot(‘drug regimen’, ‘mouse ID’)\n",
    "# plt.yaxis = “new_axis_name\"\n",
    "# mice_per_drug = df.plot\n",
    "# df.plot\n",
    "# plt.show()\n",
    "# , ylabel = “new label”\n",
    "\n",
    "plt.show()"
   ]
  },
  {
   "cell_type": "code",
   "execution_count": 81,
   "metadata": {},
   "outputs": [
    {
     "data": {
      "text/plain": [
       "<matplotlib.legend.Legend at 0x2031ccb43c8>"
      ]
     },
     "execution_count": 81,
     "metadata": {},
     "output_type": "execute_result"
    },
    {
     "data": {
      "image/png": "[encoded data removed]",
      "text/plain": [
       "<Figure size 720x288 with 1 Axes>"
      ]
     },
     "metadata": {
      "needs_background": "light"
     },
     "output_type": "display_data"
    }
   ],
   "source": [
    "# Generate a bar plot showing number of data points for each treatment regimen using pyplot\n",
    "\n",
    "labels = ('Capomulin','Ceftamin','Infubinol','Ketapril','Naftisol','Placebo','Propriva','Ramicane','Stelasyn','Zoniferol')\n",
    "x = np.arange(len(mice_per_drug))  # the label locations\n",
    "tick_location =[value for value in x]\n",
    "width = 0.3  # the width of the bars\n",
    "\n",
    "fig, ax = plt.subplots(figsize = (10,4))\n",
    "\n",
    "rects1 = ax.bar(x - width*2, mice_per_drug['Mouse ID'].sort_values(ascending=False), width, label=\"Treatment time\")\n",
    "plt.tight_layout()\n",
    "\n",
    "# Add some text for labels, title and custom x-axis tick labels, etc.\n",
    "ax.set_ylabel('Number of data points')\n",
    "ax.set_xlabel('Drug Regimen')\n",
    "ax.set_title('Number of data points for each treatment regimen')\n",
    "ax.set_xticks(x)\n",
    "ax.set_xticklabels(labels)\n",
    "ax.legend()"
   ]
  },
  {
   "cell_type": "code",
   "execution_count": 38,
   "metadata": {},
   "outputs": [
    {
     "data": {
      "text/plain": [
       "<matplotlib.axes._subplots.AxesSubplot at 0x20319cb0eb8>"
      ]
     },
     "execution_count": 38,
     "metadata": {},
     "output_type": "execute_result"
    },
    {
     "data": {
      "image/png": "[encoded data removed]",
      "text/plain": [
       "<Figure size 1152x288 with 1 Axes>"
      ]
     },
     "metadata": {
      "needs_background": "light"
     },
     "output_type": "display_data"
    }
   ],
   "source": [
    "\n",
    "bar_plot = summary_statistic.plot(kind='bar',figsize=(16,4))\n",
    "\n",
    "x_axis = np.arange(len(summary_statistic))\n",
    "\n",
    "tick_locations = [value for value in x_axis]\n",
    "# plt.xticks(tick_locations, summary_statistic)\n",
    "\n",
    "plt.xlim(-0.75, len(x_axis)-0.6)\n",
    "# bar_plot.figure(figsize=(20,4))\n",
    "\n",
    "bar_plot.legend()\n",
    "plt.title('Statistic Summary of Drug Regimen')\n",
    "plt.xlabel('Drug Regimen')\n",
    "plt.ylabel('values')\n",
    "\n",
    "bar_plot"
   ]
  },
  {
   "cell_type": "code",
   "execution_count": 39,
   "metadata": {},
   "outputs": [
    {
     "data": {
      "text/plain": [
       "<matplotlib.legend.Legend at 0x2031a39bc50>"
      ]
     },
     "execution_count": 39,
     "metadata": {},
     "output_type": "execute_result"
    },
    {
     "data": {
      "image/png": "[encoded data removed]",
      "text/plain": [
       "<Figure size 1440x288 with 1 Axes>"
      ]
     },
     "metadata": {
      "needs_background": "light"
     },
     "output_type": "display_data"
    }
   ],
   "source": [
    "labels = ('Capomulin','Ceftamin','Infubinol','Ketapril','Naftisol','Placebo','Propriva','Ramicane','Stelasyn','Zoniferol')\n",
    "x = np.arange(len(summary_statistic))  # the label locations\n",
    "tick_location =[value for value in x]\n",
    "width = 0.2  # the width of the bars\n",
    "\n",
    "fig, ax = plt.subplots(figsize = (20,4))\n",
    "rects1 = ax.bar(x - width*4, summary_statistic['Mean'], width, label='Mean')\n",
    "rects2 = ax.bar(x - width*2, summary_statistic['Median'], width, label='Median')\n",
    "rects3 = ax.bar(x, summary_statistic['Variance'], width, label='Variance')\n",
    "rects4 = ax.bar(x + width*2, summary_statistic['STD'], width, label='STD')\n",
    "rects5 = ax.bar(x + width*4, summary_statistic['SEM'], width, label='SEM')\n",
    "\n",
    "plt.tight_layout()\n",
    "\n",
    "# Add some text for labels, title and custom x-axis tick labels, etc.\n",
    "ax.set_ylabel('Value')\n",
    "ax.set_title('Statistic Summary of Drug Regimen')\n",
    "ax.set_xticks(x)\n",
    "ax.set_xticklabels(labels)\n",
    "ax.legend()\n"
   ]
  },
  {
   "cell_type": "markdown",
   "metadata": {},
   "source": [
    "## Bar plots"
   ]
  },
  {
   "cell_type": "code",
   "execution_count": 40,
   "metadata": {
    "scrolled": true
   },
   "outputs": [
    {
     "data": {
      "text/html": [
       "<div>\n",
       "<style scoped>\n",
       "    .dataframe tbody tr th:only-of-type {\n",
       "        vertical-align: middle;\n",
       "    }\n",
       "\n",
       "    .dataframe tbody tr th {\n",
       "        vertical-align: top;\n",
       "    }\n",
       "\n",
       "    .dataframe thead th {\n",
       "        text-align: right;\n",
       "    }\n",
       "</style>\n",
       "<table border=\"1\" class=\"dataframe\">\n",
       "  <thead>\n",
       "    <tr style=\"text-align: right;\">\n",
       "      <th>Drug Regimen</th>\n",
       "      <th>Capomulin</th>\n",
       "      <th>Ceftamin</th>\n",
       "      <th>Infubinol</th>\n",
       "      <th>Ketapril</th>\n",
       "      <th>Naftisol</th>\n",
       "      <th>Placebo</th>\n",
       "      <th>Propriva</th>\n",
       "      <th>Ramicane</th>\n",
       "      <th>Stelasyn</th>\n",
       "      <th>Zoniferol</th>\n",
       "    </tr>\n",
       "    <tr>\n",
       "      <th>Timepoint</th>\n",
       "      <th></th>\n",
       "      <th></th>\n",
       "      <th></th>\n",
       "      <th></th>\n",
       "      <th></th>\n",
       "      <th></th>\n",
       "      <th></th>\n",
       "      <th></th>\n",
       "      <th></th>\n",
       "      <th></th>\n",
       "    </tr>\n",
       "  </thead>\n",
       "  <tbody>\n",
       "    <tr>\n",
       "      <th>0</th>\n",
       "      <td>45.000000</td>\n",
       "      <td>45.000000</td>\n",
       "      <td>45.000000</td>\n",
       "      <td>45.000000</td>\n",
       "      <td>45.000000</td>\n",
       "      <td>45.000000</td>\n",
       "      <td>45.000000</td>\n",
       "      <td>45.000000</td>\n",
       "      <td>45.000000</td>\n",
       "      <td>45.000000</td>\n",
       "    </tr>\n",
       "    <tr>\n",
       "      <th>5</th>\n",
       "      <td>44.266086</td>\n",
       "      <td>46.503051</td>\n",
       "      <td>46.541247</td>\n",
       "      <td>47.389175</td>\n",
       "      <td>46.796098</td>\n",
       "      <td>47.125589</td>\n",
       "      <td>47.248967</td>\n",
       "      <td>43.944859</td>\n",
       "      <td>47.470830</td>\n",
       "      <td>46.851818</td>\n",
       "    </tr>\n",
       "    <tr>\n",
       "      <th>10</th>\n",
       "      <td>43.084291</td>\n",
       "      <td>48.285125</td>\n",
       "      <td>49.403909</td>\n",
       "      <td>49.582269</td>\n",
       "      <td>48.694210</td>\n",
       "      <td>49.423329</td>\n",
       "      <td>49.101541</td>\n",
       "      <td>42.531957</td>\n",
       "      <td>49.335368</td>\n",
       "      <td>48.689881</td>\n",
       "    </tr>\n",
       "    <tr>\n",
       "      <th>15</th>\n",
       "      <td>42.064317</td>\n",
       "      <td>50.094055</td>\n",
       "      <td>51.296397</td>\n",
       "      <td>52.399974</td>\n",
       "      <td>50.933018</td>\n",
       "      <td>51.359742</td>\n",
       "      <td>51.067318</td>\n",
       "      <td>41.495061</td>\n",
       "      <td>51.448025</td>\n",
       "      <td>50.779059</td>\n",
       "    </tr>\n",
       "    <tr>\n",
       "      <th>20</th>\n",
       "      <td>40.716325</td>\n",
       "      <td>52.157049</td>\n",
       "      <td>53.197691</td>\n",
       "      <td>54.920935</td>\n",
       "      <td>53.644087</td>\n",
       "      <td>54.364417</td>\n",
       "      <td>53.346737</td>\n",
       "      <td>40.238325</td>\n",
       "      <td>53.970080</td>\n",
       "      <td>53.170334</td>\n",
       "    </tr>\n",
       "    <tr>\n",
       "      <th>25</th>\n",
       "      <td>39.939528</td>\n",
       "      <td>54.287674</td>\n",
       "      <td>55.715252</td>\n",
       "      <td>57.678982</td>\n",
       "      <td>56.731968</td>\n",
       "      <td>57.482574</td>\n",
       "      <td>55.504138</td>\n",
       "      <td>38.974300</td>\n",
       "      <td>56.172821</td>\n",
       "      <td>55.432935</td>\n",
       "    </tr>\n",
       "    <tr>\n",
       "      <th>30</th>\n",
       "      <td>38.769339</td>\n",
       "      <td>56.769517</td>\n",
       "      <td>58.299397</td>\n",
       "      <td>60.994507</td>\n",
       "      <td>59.559509</td>\n",
       "      <td>59.809063</td>\n",
       "      <td>58.196374</td>\n",
       "      <td>38.703137</td>\n",
       "      <td>59.870528</td>\n",
       "      <td>57.713531</td>\n",
       "    </tr>\n",
       "    <tr>\n",
       "      <th>35</th>\n",
       "      <td>37.816839</td>\n",
       "      <td>58.827548</td>\n",
       "      <td>60.742461</td>\n",
       "      <td>63.371686</td>\n",
       "      <td>62.685087</td>\n",
       "      <td>62.420615</td>\n",
       "      <td>60.350199</td>\n",
       "      <td>37.451996</td>\n",
       "      <td>62.432021</td>\n",
       "      <td>60.089372</td>\n",
       "    </tr>\n",
       "    <tr>\n",
       "      <th>40</th>\n",
       "      <td>36.958001</td>\n",
       "      <td>61.467895</td>\n",
       "      <td>63.162824</td>\n",
       "      <td>66.068580</td>\n",
       "      <td>65.600754</td>\n",
       "      <td>65.052675</td>\n",
       "      <td>63.045537</td>\n",
       "      <td>36.574081</td>\n",
       "      <td>65.356386</td>\n",
       "      <td>62.916692</td>\n",
       "    </tr>\n",
       "    <tr>\n",
       "      <th>45</th>\n",
       "      <td>36.236114</td>\n",
       "      <td>64.132421</td>\n",
       "      <td>65.755562</td>\n",
       "      <td>70.662958</td>\n",
       "      <td>69.265506</td>\n",
       "      <td>68.084082</td>\n",
       "      <td>66.258529</td>\n",
       "      <td>34.955595</td>\n",
       "      <td>68.438310</td>\n",
       "      <td>65.960888</td>\n",
       "    </tr>\n",
       "  </tbody>\n",
       "</table>\n",
       "</div>"
      ],
      "text/plain": [
       "Drug Regimen  Capomulin   Ceftamin  Infubinol   Ketapril   Naftisol  \\\n",
       "Timepoint                                                             \n",
       "0             45.000000  45.000000  45.000000  45.000000  45.000000   \n",
       "5             44.266086  46.503051  46.541247  47.389175  46.796098   \n",
       "10            43.084291  48.285125  49.403909  49.582269  48.694210   \n",
       "15            42.064317  50.094055  51.296397  52.399974  50.933018   \n",
       "20            40.716325  52.157049  53.197691  54.920935  53.644087   \n",
       "25            39.939528  54.287674  55.715252  57.678982  56.731968   \n",
       "30            38.769339  56.769517  58.299397  60.994507  59.559509   \n",
       "35            37.816839  58.827548  60.742461  63.371686  62.685087   \n",
       "40            36.958001  61.467895  63.162824  66.068580  65.600754   \n",
       "45            36.236114  64.132421  65.755562  70.662958  69.265506   \n",
       "\n",
       "Drug Regimen    Placebo   Propriva   Ramicane   Stelasyn  Zoniferol  \n",
       "Timepoint                                                            \n",
       "0             45.000000  45.000000  45.000000  45.000000  45.000000  \n",
       "5             47.125589  47.248967  43.944859  47.470830  46.851818  \n",
       "10            49.423329  49.101541  42.531957  49.335368  48.689881  \n",
       "15            51.359742  51.067318  41.495061  51.448025  50.779059  \n",
       "20            54.364417  53.346737  40.238325  53.970080  53.170334  \n",
       "25            57.482574  55.504138  38.974300  56.172821  55.432935  \n",
       "30            59.809063  58.196374  38.703137  59.870528  57.713531  \n",
       "35            62.420615  60.350199  37.451996  62.432021  60.089372  \n",
       "40            65.052675  63.045537  36.574081  65.356386  62.916692  \n",
       "45            68.084082  66.258529  34.955595  68.438310  65.960888  "
      ]
     },
     "execution_count": 40,
     "metadata": {},
     "output_type": "execute_result"
    }
   ],
   "source": [
    "formated_index_df = pd.pivot_table(merged_df, index=['Timepoint'], columns=['Drug Regimen'])\n",
    "# formated_index_df\n",
    "\n",
    "formated_index_df = formated_index_df.loc[ : , 'Tumor Volume (mm3)']\n",
    "\n",
    "formated_index_df\n"
   ]
  },
  {
   "cell_type": "code",
   "execution_count": 41,
   "metadata": {},
   "outputs": [
    {
     "data": {
      "image/png": "[encoded data removed]",
      "text/plain": [
       "<Figure size 1152x288 with 1 Axes>"
      ]
     },
     "metadata": {
      "needs_background": "light"
     },
     "output_type": "display_data"
    }
   ],
   "source": [
    "# Generate a bar plot showing number of data points for each treatment regimen using pandas\n",
    "\n",
    "# x_axis = formated_index_df.arange(len('Drug Regimen'))\n",
    "\n",
    "bar_plot = formated_index_df.plot(kind='bar', figsize=(16,4))\n",
    "\n",
    "bar_plot.set_xlabel('Timepoint of drug tesing')\n",
    "bar_plot.set_ylabel('Tumor Volume (mm3)')\n",
    "bar_plot.set_title('Drug Regimen Dose over Time')\n",
    "bar_plot.legend(bbox_to_anchor=(0.5, 0., 0.6, 1))\n",
    "\n",
    "# for tumor in formated_index_df:\n",
    "#     if tumor == 'Tumor Volume (mm3)':\n",
    "#         plt.plot.bar(formated_index_df.timepoint, formated_index_df[index],)\n",
    "\n",
    "plt.show()\n",
    "# plt.tight_layout()"
   ]
  },
  {
   "cell_type": "code",
   "execution_count": null,
   "metadata": {},
   "outputs": [],
   "source": [
    "# Generate a bar plot showing number of data points for each treatment regimen using pyplot\n"
   ]
  },
  {
   "cell_type": "markdown",
   "metadata": {},
   "source": [
    "## Pie plots"
   ]
  },
  {
   "cell_type": "code",
   "execution_count": 42,
   "metadata": {},
   "outputs": [
    {
     "name": "stdout",
     "output_type": "stream",
     "text": [
      "Sex\n",
      "Female    124\n",
      "Male      125\n",
      "Name: Sex, dtype: int64\n"
     ]
    }
   ],
   "source": [
    "gender = mouse_metadata.groupby('Sex')['Sex'].count()\n",
    "\n",
    "print(gender)"
   ]
  },
  {
   "cell_type": "code",
   "execution_count": 22,
   "metadata": {},
   "outputs": [
    {
     "data": {
      "text/plain": [
       "<matplotlib.axes._subplots.AxesSubplot at 0x203194a1ba8>"
      ]
     },
     "execution_count": 22,
     "metadata": {},
     "output_type": "execute_result"
    },
    {
     "data": {
      "image/png": "[encoded data removed]",
      "text/plain": [
       "<Figure size 648x288 with 1 Axes>"
      ]
     },
     "metadata": {},
     "output_type": "display_data"
    }
   ],
   "source": [
    "# Generate a pie plot showing the distribution of female versus male mice using pandas\n",
    "# create a new plot so that it won't mess up previous plot\n",
    "\n",
    "plt.figure(figsize=(9,4))\n",
    "gender.plot(kind = 'pie', explode = explode, shadow = True, title = 'Mouse Gender Percentage', \n",
    "            startangle = 100, autopct='%1.1f%%')\n"
   ]
  },
  {
   "cell_type": "code",
   "execution_count": 21,
   "metadata": {},
   "outputs": [
    {
     "data": {
      "image/png": "[encoded data removed]",
      "text/plain": [
       "<Figure size 432x288 with 1 Axes>"
      ]
     },
     "metadata": {},
     "output_type": "display_data"
    }
   ],
   "source": [
    "# Generate a pie plot showing the distribution of female versus male mice using pyplot\n",
    "\n",
    "# Labels for the sections of our pie chart\n",
    "labels = [\"Female\", \"Male\"]\n",
    "\n",
    "# The values of each section of the pie chart\n",
    "sizes = gender\n",
    "\n",
    "# The colors of each section of the pie chart\n",
    "colors = [\"blue\", \"orange\",]\n",
    "\n",
    "# Tells matplotlib to seperate the \"Humans\" section from the others\n",
    "explode = ( 0.1, 0, )\n",
    "\n",
    "plt.pie(sizes, explode=explode, labels=labels, colors=colors, autopct=\"%1.1f%%\", \n",
    "        shadow=True, startangle=100)\n",
    "\n",
    "plt.title('Mouse Gender Percentage')\n",
    "plt.show()"
   ]
  },
  {
   "cell_type": "markdown",
   "metadata": {},
   "source": [
    "## Quartiles, outliers and boxplots"
   ]
  },
  {
   "cell_type": "code",
   "execution_count": 76,
   "metadata": {},
   "outputs": [
    {
     "name": "stdout",
     "output_type": "stream",
     "text": [
      "Mouse ID\n",
      "a203    67.973419\n",
      "a251    65.525743\n",
      "a275    62.999356\n",
      "a411    38.407618\n",
      "a444    43.047543\n",
      "          ...    \n",
      "y769    68.594745\n",
      "y793    31.896238\n",
      "y865    64.729837\n",
      "z578    30.638696\n",
      "z581    62.754451\n",
      "Name: Tumor Volume (mm3), Length: 100, dtype: float64\n"
     ]
    }
   ],
   "source": [
    "# Calculate the final tumor volume of each mouse across four of the most promising treatment regimens. \n",
    "#Calculate the IQR and quantitatively determine if there are any potential outliers.\n",
    "\n",
    "# Retrieve 4 drugs that most promising teatment regimens\n",
    "drug_list = ['Capomulin', 'Ramicane', 'Infubinol','Ceftamin']\n",
    "drug_data = merged_df[merged_df['Drug Regimen'].isin(drug_list)]\n",
    "\n",
    "# drug_data \n",
    "drug_data = drug_data.copy()\n",
    "drug_data.sort_values('Timepoint', inplace=True)\n",
    "\n",
    "# grouped_mouse = drug_data.groupby('Mouse ID')\n",
    "# group_mouse.head()\n",
    "\n",
    "# Find out \"final tumor volume\" by group \"Mouse ID\" under each \"4 Drug Regimens\"\n",
    "grouped_mouse = drug_data.groupby('Mouse ID')['Tumor Volume (mm3)'].last()\n",
    "print(grouped_mouse)"
   ]
  },
  {
   "cell_type": "code",
   "execution_count": 79,
   "metadata": {},
   "outputs": [
    {
     "data": {
      "image/png": "[encoded data removed]",
      "text/plain": [
       "<Figure size 432x288 with 1 Axes>"
      ]
     },
     "metadata": {
      "needs_background": "light"
     },
     "output_type": "display_data"
    },
    {
     "name": "stdout",
     "output_type": "stream",
     "text": [
      "The lower quartile of grouped_mouse is: 37.187743802499995\n",
      "The upper quartile of grouped_mouse is: 59.930261755000004\n",
      "The interquartile range of grouped_mouse is: 22.74251795250001\n",
      "The the median of grouped_mouse is: 45.0 \n",
      "Values below 3.0739668737499812 could be outliers.\n",
      "Values above 94.04403868375002 could be outliers.\n"
     ]
    }
   ],
   "source": [
    "#Calculate the IQR and quantitatively determine if there are any potential outliers.\n",
    "\n",
    "fig1, ax1 = plt.subplots()\n",
    "ax1.set_title('Final tumor volume of each mouse')\n",
    "ax1.set_ylabel('Tumor Volume (mm3)')\n",
    "ax1.boxplot(grouped_mouse)\n",
    "plt.show()\n",
    "\n",
    "quartiles = grouped_mouse.quantile([.25,.5,.75])\n",
    "lowerq = quartiles[0.25]\n",
    "upperq = quartiles[0.75]\n",
    "iqr = upperq-lowerq\n",
    "\n",
    "print(f\"The lower quartile of grouped_mouse is: {lowerq}\")\n",
    "print(f\"The upper quartile of grouped_mouse is: {upperq}\")\n",
    "print(f\"The interquartile range of grouped_mouse is: {iqr}\")\n",
    "print(f\"The the median of grouped_mouse is: {quartiles[0.5]} \")\n",
    "\n",
    "lower_bound = lowerq - (1.5*iqr)\n",
    "upper_bound = upperq + (1.5*iqr)\n",
    "print(f\"Values below {lower_bound} could be outliers.\")\n",
    "print(f\"Values above {upper_bound} could be outliers.\")"
   ]
  },
  {
   "cell_type": "code",
   "execution_count": 44,
   "metadata": {},
   "outputs": [],
   "source": [
    "# Generate a box plot of the final tumor volume of each mouse across four regimens of interest\n"
   ]
  },
  {
   "cell_type": "markdown",
   "metadata": {},
   "source": [
    "## Line and scatter plots"
   ]
  },
  {
   "cell_type": "code",
   "execution_count": 45,
   "metadata": {},
   "outputs": [
    {
     "data": {
      "text/plain": [
       "array(['s185', 'x401', 'm601', 'f966', 'u364', 'y793', 'r554', 'm957',\n",
       "       't565', 'i738', 'w914', 'g288', 'l897', 'b742', 'b128', 'j246',\n",
       "       'j119', 'w150', 'v923', 'g316', 's710', 'l509', 'r944', 'i557',\n",
       "       'r157'], dtype=object)"
      ]
     },
     "execution_count": 45,
     "metadata": {},
     "output_type": "execute_result"
    }
   ],
   "source": [
    "# Generate a line plot of time point versus tumor volume for a mouse treated with Capomulin\n",
    "capomulin_drug = merged_df[merged_df['Drug Regimen']=='Capomulin']\n",
    "capomulin_drug['Mouse ID'].unique()"
   ]
  },
  {
   "cell_type": "code",
   "execution_count": 46,
   "metadata": {},
   "outputs": [
    {
     "data": {
      "text/plain": [
       "[<matplotlib.lines.Line2D at 0x2031a6b9a58>]"
      ]
     },
     "execution_count": 46,
     "metadata": {},
     "output_type": "execute_result"
    },
    {
     "data": {
      "image/png": "[encoded data removed]",
      "text/plain": [
       "<Figure size 720x288 with 1 Axes>"
      ]
     },
     "metadata": {
      "needs_background": "light"
     },
     "output_type": "display_data"
    }
   ],
   "source": [
    "# Select a Mouse ID above and line plot of time point versus tumor volume\n",
    "mouse_id = 's185'\n",
    "x_axis = merged_df['Timepoint'].unique()\n",
    "y_axis = capomulin_drug[capomulin_drug['Mouse ID'] == mouse_id]['Tumor Volume (mm3)']\n",
    "\n",
    "plt.figure(figsize = (10,4))\n",
    "plt.title('Tumor Volume for {mouse_id}')\n",
    "plt.xlabel('Days of trial')\n",
    "plt.ylabel('Tumor Volume(mm3)')\n",
    "plt.tight_layout()\n",
    "plt.plot(x_axis, y_axis)"
   ]
  },
  {
   "cell_type": "code",
   "execution_count": 50,
   "metadata": {},
   "outputs": [
    {
     "data": {
      "image/png": "[encoded data removed]",
      "text/plain": [
       "<Figure size 720x288 with 1 Axes>"
      ]
     },
     "metadata": {
      "needs_background": "light"
     },
     "output_type": "display_data"
    }
   ],
   "source": [
    "# Generate a scatter plot of mouse weight versus average tumor volume for the Capomulin regimen\n",
    "\n",
    "capomulin = merged_df[merged_df['Drug Regimen']== \"Capomulin\"]\n",
    "capomulin_copy= capomulin.copy()\n",
    "\n",
    "grouped_mouse = capomulin_copy.groupby('Mouse ID')\n",
    "\n",
    "# print(grouped_mouse.head())\n",
    "\n",
    "capomulin_ave_tumor = grouped_mouse['Tumor Volume (mm3)'].mean()\n",
    "\n",
    "# print(capomulin_ave_tumor)\n",
    "\n",
    "mouse_weight = grouped_mouse['Weight (g)'].mean()\n",
    "# print(mouse_weight)\n",
    "\n",
    "x_value = mouse_weight\n",
    "y_value = capomulin_ave_tumor\n",
    "\n",
    "plt.figure(figsize = (10,4))\n",
    "plt.title('mouse weight versus average tumor volume')\n",
    "plt.xlabel('Weight (g)')\n",
    "plt.ylabel('average tumor volume')\n",
    "plt.tight_layout()\n",
    "plt.scatter(x_value, y_value, marker=\"o\", facecolors=\"red\", edgecolors=\"black\",s=y_axis )\n",
    "\n",
    "    \n",
    "slope, intercept, rvalue, pvalue, stderr) = stats.linregress(x_value, y_value)\n",
    "regress_values = x_value * slope + intercept\n",
    "line_eq = \"y = \" + str(round(slope,2)) + \"x + \" + str(round(intercept,2))"
   ]
  },
  {
   "cell_type": "code",
   "execution_count": 49,
   "metadata": {},
   "outputs": [
    {
     "name": "stdout",
     "output_type": "stream",
     "text": [
      "The correlation between both factors is 0.84\n"
     ]
    }
   ],
   "source": [
    "# Calculate the correlation coefficient and linear regression model for mouse weight and average tumor volume for the Capomulin regimen\n",
    "correlation = st.pearsonr(x_value, y_value)\n",
    "print(f\"The correlation between both factors is {round(correlation[0],2)}\")\n",
    "\n"
   ]
  },
  {
   "cell_type": "code",
   "execution_count": null,
   "metadata": {},
   "outputs": [],
   "source": []
  }
 ],
 "metadata": {
  "anaconda-cloud": {},
  "kernelspec": {
   "display_name": "Python [conda env:PythonData]",
   "language": "python",
   "name": "conda-env-PythonData-py"
  },
  "language_info": {
   "codemirror_mode": {
    "name": "ipython",
    "version": 3
   },
   "file_extension": ".py",
   "mimetype": "text/x-python",
   "name": "python",
   "nbconvert_exporter": "python",
   "pygments_lexer": "ipython3",
   "version": "3.6.10"
  }
 },
 "nbformat": 4,
 "nbformat_minor": 2
}
